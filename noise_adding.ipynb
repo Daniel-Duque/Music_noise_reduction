{
 "cells": [
  {
   "attachments": {},
   "cell_type": "markdown",
   "metadata": {},
   "source": [
    "# Adding noise to audios using overlay"
   ]
  },
  {
   "cell_type": "code",
   "execution_count": 6,
   "metadata": {},
   "outputs": [],
   "source": [
    "from pydub import AudioSegment\n",
    "sound1 = AudioSegment.from_file(\"C:/Users/USUARIO/Desktop/DeepLearning/audio_testing/MS-SNSD/MS-SNSD/noise_test/Munching_1.wav\", format=\"wav\")\n",
    "sound2 = AudioSegment.from_file(\"C:/Users/USUARIO/Desktop/DeepLearning/audio_testing/MS-SNSD/MS-SNSD/clean_test/clnsp0.wav\", format=\"wav\")\n",
    "\n",
    "# sound1 6 dB louder\n",
    "louder = sound2 + 6\n",
    "\n",
    "\n",
    "# sound1, with sound2 appended (use louder instead of sound1 to append the louder version)\n",
    "combined = sound1 + louder\n",
    "\n",
    "# simple export\n",
    "file_handle = combined.export(\"C:/Users/USUARIO/Desktop/DeepLearning/audio_testing/wavs/output.wav\", format=\"wav\")"
   ]
  },
  {
   "cell_type": "code",
   "execution_count": 1,
   "metadata": {},
   "outputs": [
    {
     "name": "stderr",
     "output_type": "stream",
     "text": [
      "c:\\Users\\USUARIO\\anaconda3\\envs\\audio_dl\\lib\\site-packages\\pydub\\utils.py:170: RuntimeWarning: Couldn't find ffmpeg or avconv - defaulting to ffmpeg, but may not work\n",
      "  warn(\"Couldn't find ffmpeg or avconv - defaulting to ffmpeg, but may not work\", RuntimeWarning)\n"
     ]
    }
   ],
   "source": [
    "from pydub import AudioSegment\n",
    "sound1 = AudioSegment.from_file(\"C:/Users/USUARIO/Desktop/DeepLearning/audio_testing/MS-SNSD/MS-SNSD/noise_test/Munching_1.wav\", format=\"wav\")\n",
    "sound2 = AudioSegment.from_file(\"C:/Users/USUARIO/Desktop/DeepLearning/audio_testing/MS-SNSD/MS-SNSD/clean_test/clnsp0.wav\", format=\"wav\")\n",
    "\n",
    "# sound1 6 dB louder\n",
    "louder = sound1 + 6\n",
    "\n",
    "# Overlay sound2 over sound1 at position 0  (use louder instead of sound1 to use the louder version)\n",
    "overlay = sound2.overlay(sound1)\n",
    "\n",
    "\n",
    "# simple export\n",
    "file_handle = overlay.export(\"C:/Users/USUARIO/Desktop/DeepLearning/audio_testing/output.wav\", format=\"wav\")"
   ]
  },
  {
   "cell_type": "code",
   "execution_count": 2,
   "metadata": {},
   "outputs": [],
   "source": [
    "from pydub import AudioSegment\n",
    "def overlay_audios(sound1_path,sound2_path,output_path):\n",
    "    # For the paths include file name and extension\n",
    "    sound1 = AudioSegment.from_file(sound1_path, format=\"wav\")\n",
    "    sound2 = AudioSegment.from_file(sound2_path, format=\"wav\")\n",
    "\n",
    "    overlay=sound2.overlay(sound1)\n",
    "    file_handle = overlay.export(output_path, format=\"wav\")"
   ]
  },
  {
   "cell_type": "code",
   "execution_count": 3,
   "metadata": {},
   "outputs": [],
   "source": [
    "import numpy as np\n",
    "from pydub import AudioSegment\n",
    "import os"
   ]
  },
  {
   "cell_type": "code",
   "execution_count": 4,
   "metadata": {},
   "outputs": [],
   "source": [
    "clean_paths=[]\n",
    "noise_paths=[]\n",
    "\n",
    "dir_path=\"C:/Users/USUARIO/Desktop/DeepLearning/audio_testing/MS-SNSD/MS-SNSD/clean_test/\"\n",
    "dir = os.listdir(dir_path)\n",
    "\n",
    "for i, file in enumerate(dir):\n",
    "    if file.find(\"wav\")>-1:\n",
    "        clean_paths.append(dir_path+file)\n",
    "\n",
    "dir_path=\"C:/Users/USUARIO/Desktop/DeepLearning/audio_testing/MS-SNSD/MS-SNSD/clean_train/\"\n",
    "dir = os.listdir(dir_path)\n",
    "\n",
    "for i, file in enumerate(dir):\n",
    "    if file.find(\"wav\")>-1:\n",
    "        clean_paths.append(dir_path+file)\n",
    "\n",
    "dir_path=\"C:/Users/USUARIO/Desktop/DeepLearning/audio_testing/MS-SNSD/MS-SNSD/noise_test/\"\n",
    "dir = os.listdir(dir_path)\n",
    "\n",
    "for i, file in enumerate(dir):\n",
    "    if file.find(\"wav\")>-1:\n",
    "        noise_paths.append(dir_path+file)\n",
    "\n",
    "dir_path=\"C:/Users/USUARIO/Desktop/DeepLearning/audio_testing/MS-SNSD/MS-SNSD/noise_train/\"\n",
    "dir = os.listdir(dir_path)\n",
    "\n",
    "for i, file in enumerate(dir):\n",
    "    if file.find(\"wav\")>-1:\n",
    "        noise_paths.append(dir_path+file)\n",
    "\n",
    "\n",
    "noise_paths=np.array(noise_paths)\n",
    "noise_paths=np.resize(noise_paths,(len(clean_paths),))\n",
    "noise_paths=noise_paths.tolist()"
   ]
  },
  {
   "cell_type": "code",
   "execution_count": 7,
   "metadata": {},
   "outputs": [],
   "source": [
    "i=1\n",
    "for c,n in zip(clean_paths,noise_paths):\n",
    "    output_path=f\"C:/Users/USUARIO/Desktop/DeepLearning/audio_testing/wavs/noisy/output{i}.wav\"\n",
    "    overlay_audios(n,c,output_path)\n",
    "    i=i+1"
   ]
  },
  {
   "cell_type": "code",
   "execution_count": 5,
   "metadata": {},
   "outputs": [
    {
     "data": {
      "text/plain": [
       "'C:/Users/USUARIO/Desktop/DeepLearning/audio_testing/MS-SNSD/MS-SNSD/clean_train/p376_295.wav'"
      ]
     },
     "execution_count": 5,
     "metadata": {},
     "output_type": "execute_result"
    }
   ],
   "source": [
    "clean_paths[-1]"
   ]
  }
 ],
 "metadata": {
  "kernelspec": {
   "display_name": "audio_dl",
   "language": "python",
   "name": "python3"
  },
  "language_info": {
   "codemirror_mode": {
    "name": "ipython",
    "version": 3
   },
   "file_extension": ".py",
   "mimetype": "text/x-python",
   "name": "python",
   "nbconvert_exporter": "python",
   "pygments_lexer": "ipython3",
   "version": "3.9.16"
  },
  "orig_nbformat": 4
 },
 "nbformat": 4,
 "nbformat_minor": 2
}
