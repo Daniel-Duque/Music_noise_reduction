{
 "cells": [
  {
   "cell_type": "code",
   "execution_count": 1,
   "metadata": {},
   "outputs": [],
   "source": [
    "import tensorflow as tf\n",
    "import os\n",
    "from IPython.display import Audio\n",
    "from scipy.io.wavfile import read\n",
    "import numpy as np"
   ]
  },
  {
   "cell_type": "code",
   "execution_count": 2,
   "metadata": {},
   "outputs": [],
   "source": [
    "ROOT='wavs/clean/'"
   ]
  },
  {
   "cell_type": "code",
   "execution_count": 3,
   "metadata": {},
   "outputs": [],
   "source": [
    "time=16000\n",
    "sizes=1000"
   ]
  },
  {
   "cell_type": "code",
   "execution_count": 9,
   "metadata": {},
   "outputs": [],
   "source": [
    "s_rate,song = read('wavs/clean/clnsp0.wav')"
   ]
  },
  {
   "cell_type": "code",
   "execution_count": 4,
   "metadata": {},
   "outputs": [],
   "source": [
    "s_rates=[]\n",
    "songs=[]\n",
    "for i in os.listdir(ROOT):\n",
    "    file_path=os.path.join(ROOT,i)\n",
    "    s_rate,song = read(file_path)\n",
    "    s_rates.append(s_rate)\n",
    "    songs.append(song)"
   ]
  },
  {
   "cell_type": "code",
   "execution_count": 13,
   "metadata": {},
   "outputs": [
    {
     "ename": "ValueError",
     "evalue": "all the input array dimensions for the concatenation axis must match exactly, but along dimension 1, the array at index 0 has size 1000 and the array at index 1 has size 260800",
     "output_type": "error",
     "traceback": [
      "\u001b[1;31m---------------------------------------------------------------------------\u001b[0m",
      "\u001b[1;31mValueError\u001b[0m                                Traceback (most recent call last)",
      "Cell \u001b[1;32mIn[13], line 14\u001b[0m\n\u001b[0;32m     12\u001b[0m mean\u001b[39m=\u001b[39m\u001b[39m-\u001b[39m\u001b[39m2.74658203125e-07\u001b[39m\n\u001b[0;32m     13\u001b[0m padsongnorm\u001b[39m=\u001b[39mpadsong\u001b[39m/\u001b[39mmean\n\u001b[1;32m---> 14\u001b[0m dataset\u001b[39m=\u001b[39mnp\u001b[39m.\u001b[39;49mvstack((dataset,padsongnorm))\n",
      "File \u001b[1;32m<__array_function__ internals>:180\u001b[0m, in \u001b[0;36mvstack\u001b[1;34m(*args, **kwargs)\u001b[0m\n",
      "File \u001b[1;32mc:\\Users\\USUARIO\\anaconda3\\envs\\audio_dl\\lib\\site-packages\\numpy\\core\\shape_base.py:282\u001b[0m, in \u001b[0;36mvstack\u001b[1;34m(tup)\u001b[0m\n\u001b[0;32m    280\u001b[0m \u001b[39mif\u001b[39;00m \u001b[39mnot\u001b[39;00m \u001b[39misinstance\u001b[39m(arrs, \u001b[39mlist\u001b[39m):\n\u001b[0;32m    281\u001b[0m     arrs \u001b[39m=\u001b[39m [arrs]\n\u001b[1;32m--> 282\u001b[0m \u001b[39mreturn\u001b[39;00m _nx\u001b[39m.\u001b[39;49mconcatenate(arrs, \u001b[39m0\u001b[39;49m)\n",
      "File \u001b[1;32m<__array_function__ internals>:180\u001b[0m, in \u001b[0;36mconcatenate\u001b[1;34m(*args, **kwargs)\u001b[0m\n",
      "\u001b[1;31mValueError\u001b[0m: all the input array dimensions for the concatenation axis must match exactly, but along dimension 1, the array at index 0 has size 1000 and the array at index 1 has size 260800"
     ]
    }
   ],
   "source": [
    "max_lenght=0\n",
    "dataset=np.empty((sizes))\n",
    "for s  in songs:\n",
    "    max_lenght= s.shape[0] if  s.shape[0]>max_lenght else max_lenght\n",
    "\n",
    "for s in songs:\n",
    "    padding=max_lenght-s.shape[0]\n",
    "    if padding>0:\n",
    "        padsong=np.pad(s, (0,padding), 'constant', constant_values=(0,0))\n",
    "    else:\n",
    "        padsong=np.resize(s,(max_lenght,))\n",
    "    mean=-2.74658203125e-07\n",
    "    padsongnorm=padsong/mean\n",
    "    dataset=np.vstack((dataset,padsongnorm))"
   ]
  },
  {
   "cell_type": "code",
   "execution_count": 10,
   "metadata": {},
   "outputs": [
    {
     "ename": "NameError",
     "evalue": "name 'dataset' is not defined",
     "output_type": "error",
     "traceback": [
      "\u001b[1;31m---------------------------------------------------------------------------\u001b[0m",
      "\u001b[1;31mNameError\u001b[0m                                 Traceback (most recent call last)",
      "Cell \u001b[1;32mIn[10], line 6\u001b[0m\n\u001b[0;32m      3\u001b[0m model_rn\u001b[39m.\u001b[39madd(tf\u001b[39m.\u001b[39mkeras\u001b[39m.\u001b[39mlayers\u001b[39m.\u001b[39mLSTM(\u001b[39m1\u001b[39m, return_sequences\u001b[39m=\u001b[39m\u001b[39mTrue\u001b[39;00m))\n\u001b[0;32m      5\u001b[0m model_rn\u001b[39m.\u001b[39mcompile(loss\u001b[39m=\u001b[39m\u001b[39m\"\u001b[39m\u001b[39mMSE\u001b[39m\u001b[39m\"\u001b[39m)\n\u001b[1;32m----> 6\u001b[0m model_rn\u001b[39m.\u001b[39mfit(dataset,dataset,epochs\u001b[39m=\u001b[39m\u001b[39m1000\u001b[39m)\n",
      "\u001b[1;31mNameError\u001b[0m: name 'dataset' is not defined"
     ]
    }
   ],
   "source": [
    "model_rn = tf.keras.Sequential()\n",
    "model_rn.add(tf.keras.layers.LSTM(8, input_shape=(max_lenght,1,), return_sequences=True))\n",
    "model_rn.add(tf.keras.layers.LSTM(1, return_sequences=True))\n",
    "\n",
    "model_rn.compile(loss=\"MSE\")\n",
    "model_rn.fit(dataset,dataset,epochs=1000)"
   ]
  }
 ],
 "metadata": {
  "kernelspec": {
   "display_name": "gpu_env",
   "language": "python",
   "name": "python3"
  },
  "language_info": {
   "codemirror_mode": {
    "name": "ipython",
    "version": 3
   },
   "file_extension": ".py",
   "mimetype": "text/x-python",
   "name": "python",
   "nbconvert_exporter": "python",
   "pygments_lexer": "ipython3",
   "version": "3.9.16"
  },
  "orig_nbformat": 4
 },
 "nbformat": 4,
 "nbformat_minor": 2
}
