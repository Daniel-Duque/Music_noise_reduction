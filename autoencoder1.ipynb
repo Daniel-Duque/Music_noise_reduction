{
 "cells": [
  {
   "cell_type": "code",
   "execution_count": 2,
   "metadata": {},
   "outputs": [],
   "source": [
    "import os\n",
    "from IPython.display import Audio\n",
    "from scipy.io.wavfile import read\n",
    "import matplotlib.pyplot as plt\n",
    "import numpy as np\n",
    "import os"
   ]
  },
  {
   "cell_type": "code",
   "execution_count": 4,
   "metadata": {},
   "outputs": [],
   "source": [
    "input_file=r'wavs\\clean\\clnsp0.wav'\n",
    "ms=read(input_file)"
   ]
  },
  {
   "cell_type": "code",
   "execution_count": 7,
   "metadata": {},
   "outputs": [
    {
     "data": {
      "text/plain": [
       "(16000, array([-2, -6, -9, ...,  3, 14, 24], dtype=int16))"
      ]
     },
     "execution_count": 7,
     "metadata": {},
     "output_type": "execute_result"
    }
   ],
   "source": [
    "ms"
   ]
  },
  {
   "cell_type": "code",
   "execution_count": 26,
   "metadata": {},
   "outputs": [],
   "source": [
    "from math import ceil\n",
    "\n",
    "song=read(r'wavs\\clean\\clnsp0.wav')\n",
    "sr=song[0]\n",
    "ms=np.array(song[1],dtype=float)\n"
   ]
  },
  {
   "cell_type": "code",
   "execution_count": 1,
   "metadata": {},
   "outputs": [],
   "source": [
    "from math import ceil\n",
    "def create_spec_from_dir(dir_path,top_x=200):\n",
    "    #dir_path directorio o folder donde estan los wavs\n",
    "    # top_x opcional cuantos archivos maximo desea usar, dejar vacio para usarlos todos\n",
    "    vector_min_size=5000\n",
    "    dir = os.listdir(dir_path)\n",
    "    spec_list=[]\n",
    "    s_rates=[]\n",
    "    for i, file in enumerate(dir):\n",
    "        #try:\n",
    "        if i<=top_x:\n",
    "            input_file = os.path.join(dir_path, file)\n",
    "            song=read(input_file)\n",
    "            sr=song[0]\n",
    "            ms=np.array(song[1],dtype=float)\n",
    "            num_batches=ceil(ms.shape[0]/vector_min_size) if ms.shape[0]>vector_min_size else 1\n",
    "            ms=np.resize(ms,(vector_min_size*num_batches))\n",
    "            batches=np.hsplit(ms,num_batches)\n",
    "            for batch in batches:\n",
    "                spec_list.append(batch)\n",
    "                s_rates.append(sr)\n",
    "        # except:\n",
    "        #     print(file,\" file skipped\")\n",
    "    \n",
    "    return spec_list"
   ]
  },
  {
   "cell_type": "code",
   "execution_count": 3,
   "metadata": {},
   "outputs": [],
   "source": [
    "clean_specs=create_spec_from_dir(r'wavs\\clean',2000)"
   ]
  },
  {
   "cell_type": "code",
   "execution_count": 4,
   "metadata": {},
   "outputs": [
    {
     "data": {
      "text/plain": [
       "51516"
      ]
     },
     "execution_count": 4,
     "metadata": {},
     "output_type": "execute_result"
    }
   ],
   "source": [
    "len(clean_specs)"
   ]
  }
 ],
 "metadata": {
  "kernelspec": {
   "display_name": "audio_dl",
   "language": "python",
   "name": "python3"
  },
  "language_info": {
   "codemirror_mode": {
    "name": "ipython",
    "version": 3
   },
   "file_extension": ".py",
   "mimetype": "text/x-python",
   "name": "python",
   "nbconvert_exporter": "python",
   "pygments_lexer": "ipython3",
   "version": "3.9.16"
  },
  "orig_nbformat": 4
 },
 "nbformat": 4,
 "nbformat_minor": 2
}
